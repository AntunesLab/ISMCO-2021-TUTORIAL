{
 "cells": [
  {
   "cell_type": "markdown",
   "metadata": {
    "id": "DWTsIOZiUISg"
   },
   "source": [
    "# <div style=\"text-align: center\">IEDB Tutorial</div>"
   ]
  },
  {
   "cell_type": "markdown",
   "metadata": {
    "id": "g7euoJpCUISl"
   },
   "source": [
    "<div style=\"text-align: justify\">The IEDB (Imuno Epitope Database) is a catalog of experimental data on antibody and T cell epitopes studied in humans, non-human primates, and other animal species in the context of infectious disease, allergy, autoimmunity and transplantation. The IEDB also hosts tools to assist in the prediction and analysis of epitopes.</div>"
   ]
  },
  {
   "cell_type": "markdown",
   "metadata": {
    "id": "AF85X3byUISm"
   },
   "source": [
    "To access IEDB, please click [here](https://www.iedb.org/)."
   ]
  },
  {
   "cell_type": "code",
   "execution_count": 2,
   "metadata": {
    "id": "_zsX9rIaUISm"
   },
   "outputs": [
    {
     "name": "stdout",
     "output_type": "stream",
     "text": [
      "/usr/bin/sh: 1: Syntax error: word unexpected (expecting \")\")\r\n"
     ]
    }
   ],
   "source": [
    "![./figs/iedb-1.png](attachment:iedb-1.png)"
   ]
  },
  {
   "cell_type": "markdown",
   "metadata": {
    "id": "ep6A8fh0UISn"
   },
   "source": [
    "# Start a basic search for class I HLA peptide binders\n",
    "    Organism: Homo sapiens\n",
    "    Antigen Name: melanoma-associated antigen 3\n",
    "    \n",
    "    Note: Save the ID number associated with this sequence [P43357]"
   ]
  },
  {
   "cell_type": "code",
   "execution_count": 3,
   "metadata": {
    "id": "HlVrxkUQUISn"
   },
   "outputs": [
    {
     "name": "stdout",
     "output_type": "stream",
     "text": [
      "/usr/bin/sh: 1: Syntax error: word unexpected (expecting \")\")\r\n"
     ]
    }
   ],
   "source": [
    "![./figs/iedb-mage-search.png](attachment:iedb-mage-search.png)"
   ]
  },
  {
   "cell_type": "markdown",
   "metadata": {
    "id": "xUBmPpzQUISo"
   },
   "source": [
    "# Refine your search:\n",
    "    Epitope: Linear Epitope\n",
    "    MHC Restriction: MHC class I"
   ]
  },
  {
   "cell_type": "markdown",
   "metadata": {
    "id": "Q9ydyR5oUISo"
   },
   "source": [
    "![iedb-mage-epitope.png](attachment:iedb-mage-epitope.png)"
   ]
  },
  {
   "cell_type": "markdown",
   "metadata": {
    "id": "zoH3k6BtUISp"
   },
   "source": [
    "![iedb-mage-mhc.png](attachment:iedb-mage-mhc.png)"
   ]
  },
  {
   "cell_type": "markdown",
   "metadata": {
    "id": "e4PzzJPMUISp"
   },
   "source": [
    "# IEDB data is centered on the Assays Tab"
   ]
  },
  {
   "cell_type": "markdown",
   "metadata": {
    "id": "euWbljHDUISq"
   },
   "source": [
    "![iedb-mage-assays.png](attachment:iedb-mage-assays.png)"
   ]
  },
  {
   "cell_type": "markdown",
   "metadata": {
    "id": "KA_tpLoGUISq"
   },
   "source": [
    "# Click on the HLA allele name to get more details"
   ]
  },
  {
   "cell_type": "markdown",
   "metadata": {
    "id": "3K1Deo57UISq"
   },
   "source": [
    "![iedb-hla-details.png](attachment:iedb-hla-details.png)"
   ]
  },
  {
   "cell_type": "markdown",
   "metadata": {
    "id": "MWBcwwf_UISr"
   },
   "source": [
    "# Advanced options to refine your search\n",
    "    On the Assay panel on the right, click in Finder."
   ]
  },
  {
   "cell_type": "markdown",
   "metadata": {
    "id": "1Id3WvDnUISr"
   },
   "source": [
    "![iedb-mage-assay-finder-0.png](attachment:iedb-mage-assay-finder-0.png)"
   ]
  },
  {
   "cell_type": "markdown",
   "metadata": {
    "id": "CVkzx8P9UISr"
   },
   "source": [
    "## Select a specific type of experimental assay"
   ]
  },
  {
   "cell_type": "markdown",
   "metadata": {
    "id": "28FHehtxUISr"
   },
   "source": [
    "![iedb-mage-assay-finder.png](attachment:iedb-mage-assay-finder.png)"
   ]
  },
  {
   "cell_type": "markdown",
   "metadata": {
    "id": "m5c6ZlXGUISs"
   },
   "source": [
    "## You can export all results of the Assays tab (the most complete) as a csv file"
   ]
  },
  {
   "cell_type": "markdown",
   "metadata": {
    "id": "thgDBGLSUISs"
   },
   "source": [
    "![iedb-magea3-csv.png](attachment:iedb-magea3-csv.png)"
   ]
  },
  {
   "cell_type": "code",
   "execution_count": null,
   "metadata": {
    "executionInfo": {
     "elapsed": 112,
     "status": "ok",
     "timestamp": 1633720590180,
     "user": {
      "displayName": "Dinler Antunes",
      "photoUrl": "https://lh3.googleusercontent.com/a-/AOh14GgH54FV-A7lJJ2HrjtXGsgDXVWKvJsbqN3Y4qemzw=s64",
      "userId": "02047855598405070686"
     },
     "user_tz": 300
    },
    "id": "lD8wGUK5UISs"
   },
   "outputs": [],
   "source": []
  }
 ],
 "metadata": {
  "colab": {
   "name": "IEDB_Tutorial_part1.ipynb",
   "provenance": []
  },
  "kernelspec": {
   "display_name": "Python 3",
   "language": "python",
   "name": "python3"
  },
  "language_info": {
   "codemirror_mode": {
    "name": "ipython",
    "version": 3
   },
   "file_extension": ".py",
   "mimetype": "text/x-python",
   "name": "python",
   "nbconvert_exporter": "python",
   "pygments_lexer": "ipython3",
   "version": "3.7.3"
  }
 },
 "nbformat": 4,
 "nbformat_minor": 1
}
